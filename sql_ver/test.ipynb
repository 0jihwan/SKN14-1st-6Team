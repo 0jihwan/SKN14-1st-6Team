{
 "cells": [
  {
   "cell_type": "code",
   "id": "initial_id",
   "metadata": {
    "collapsed": true,
    "ExecuteTime": {
     "end_time": "2025-04-28T02:33:25.284071Z",
     "start_time": "2025-04-28T02:33:25.241245Z"
    }
   },
   "source": [
    "import pandas as pd\n",
    "\n",
    "df=pd.read_csv('C:\\Workspaces\\SKN14-1st-6Team\\한국교통안전공단_자동차결함 리콜현황_20231231.csv', encoding='cp949')\n",
    "df.info()"
   ],
   "outputs": [
    {
     "name": "stdout",
     "output_type": "stream",
     "text": [
      "<class 'pandas.core.frame.DataFrame'>\n",
      "RangeIndex: 941 entries, 0 to 940\n",
      "Data columns (total 6 columns):\n",
      " #   Column    Non-Null Count  Dtype \n",
      "---  ------    --------------  ----- \n",
      " 0   제작자       941 non-null    object\n",
      " 1   차명        941 non-null    object\n",
      " 2   생산기간(부터)  941 non-null    object\n",
      " 3   생산기간(까지)  941 non-null    object\n",
      " 4   리콜개시일     941 non-null    object\n",
      " 5   리콜사유      941 non-null    object\n",
      "dtypes: object(6)\n",
      "memory usage: 44.2+ KB\n"
     ]
    },
    {
     "name": "stderr",
     "output_type": "stream",
     "text": [
      "<>:3: SyntaxWarning: invalid escape sequence '\\W'\n",
      "<>:3: SyntaxWarning: invalid escape sequence '\\W'\n",
      "C:\\Users\\play data\\AppData\\Local\\Temp\\ipykernel_10392\\536667083.py:3: SyntaxWarning: invalid escape sequence '\\W'\n",
      "  df=pd.read_csv('C:\\Workspaces\\SKN14-1st-6Team\\한국교통안전공단_자동차결함 리콜현황_20231231.csv', encoding='cp949')\n"
     ]
    }
   ],
   "execution_count": 4
  },
  {
   "metadata": {
    "ExecuteTime": {
     "end_time": "2025-04-28T02:35:57.905641Z",
     "start_time": "2025-04-28T02:35:57.893511Z"
    }
   },
   "cell_type": "code",
   "source": "df.nunique()",
   "id": "4a3d276f93e6b97",
   "outputs": [
    {
     "data": {
      "text/plain": [
       "제작자          43\n",
       "차명          635\n",
       "생산기간(부터)    651\n",
       "생산기간(까지)    590\n",
       "리콜개시일       134\n",
       "리콜사유        260\n",
       "dtype: int64"
      ]
     },
     "execution_count": 5,
     "metadata": {},
     "output_type": "execute_result"
    }
   ],
   "execution_count": 5
  }
 ],
 "metadata": {
  "kernelspec": {
   "display_name": "Python 3",
   "language": "python",
   "name": "python3"
  },
  "language_info": {
   "codemirror_mode": {
    "name": "ipython",
    "version": 2
   },
   "file_extension": ".py",
   "mimetype": "text/x-python",
   "name": "python",
   "nbconvert_exporter": "python",
   "pygments_lexer": "ipython2",
   "version": "2.7.6"
  }
 },
 "nbformat": 4,
 "nbformat_minor": 5
}
